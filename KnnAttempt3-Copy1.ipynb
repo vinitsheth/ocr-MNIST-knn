{
 "cells": [
  {
   "cell_type": "code",
   "execution_count": 3,
   "metadata": {
    "collapsed": true
   },
   "outputs": [],
   "source": [
    "import numpy as np\n",
    "import load_dataset\n",
    "import timeit\n",
    "import collections\n",
    "import timeit\n",
    "from bisect import bisect\n",
    "import scipy.spatial.distance as sd"
   ]
  },
  {
   "cell_type": "code",
   "execution_count": 4,
   "metadata": {},
   "outputs": [],
   "source": [
    "y_train , x_train= load_dataset.read(\"training\",\"MNIST\")\n",
    "y_test, x_test= load_dataset.read(\"testing\",\"MNIST\")\n",
    "x_train = x_train.reshape([60000,28*28])\n",
    "x_test = x_test.reshape([10000,28*28])"
   ]
  },
  {
   "cell_type": "code",
   "execution_count": null,
   "metadata": {
    "collapsed": true
   },
   "outputs": [],
   "source": [
    "distanceMatrix = sd.cdist(x_test,x_train)"
   ]
  },
  {
   "cell_type": "code",
   "execution_count": null,
   "metadata": {
    "collapsed": true
   },
   "outputs": [],
   "source": [
    "k = [1,3,5,10,30,50,70,80,90,100]"
   ]
  },
  {
   "cell_type": "code",
   "execution_count": null,
   "metadata": {
    "collapsed": true
   },
   "outputs": [],
   "source": [
    "def efficiency(k):\n",
    "    \n",
    "    ct =0.00\n",
    "    cf =0.00\n",
    "    for i in range(len(x_test)):\n",
    "        \"\"\"\n",
    "        labels = []\n",
    "        tempDist = list(distanceMatrix[i])\n",
    "        \n",
    "        for j in range(k):\n",
    "            index = np.argmin(tempDist)\n",
    "            labels.append(y_train[index])\n",
    "            del tempDist[index]\n",
    "            \n",
    "        #print labels\n",
    "        \"\"\"\n",
    "        labels = y_train[np.argpartition(distanceMatrix[i], k)[:k]]\n",
    "        preictedLabel = collections.Counter(labels).most_common(1)[0][0]\n",
    "        #print preictedLabel\n",
    "        #print y_test[i]\n",
    "        if preictedLabel == y_test[i]:\n",
    "            ct+= 1\n",
    "        else:\n",
    "            cf += 1\n",
    "    return ct/(ct+cf)\n",
    "            \n",
    "                \n",
    "\n",
    "\n",
    "        \n",
    "        \n",
    "        \n",
    "        "
   ]
  },
  {
   "cell_type": "code",
   "execution_count": null,
   "metadata": {
    "collapsed": true
   },
   "outputs": [],
   "source": [
    "y=[]\n",
    "for nbr in k:\n",
    "    eff = efficiency(nbr)\n",
    "    y.append(eff)\n",
    "    print str(nbr)+\" - \"+str(eff)\n",
    "    "
   ]
  },
  {
   "cell_type": "code",
   "execution_count": null,
   "metadata": {
    "collapsed": true
   },
   "outputs": [],
   "source": [
    "import matplotlib.pyplot as plt\n",
    "plt.ylabel(\"accuracy\")\n",
    "plt.xlabel(\"number of neighbours\")\n",
    "plt.title(\"knn Learning Curve\")\n",
    "plt.plot(k,y)\n",
    "plt.show()"
   ]
  },
  {
   "cell_type": "code",
   "execution_count": null,
   "metadata": {
    "collapsed": true
   },
   "outputs": [],
   "source": [
    "\n"
   ]
  },
  {
   "cell_type": "code",
   "execution_count": null,
   "metadata": {
    "collapsed": true
   },
   "outputs": [],
   "source": []
  },
  {
   "cell_type": "code",
   "execution_count": null,
   "metadata": {
    "collapsed": true
   },
   "outputs": [],
   "source": []
  },
  {
   "cell_type": "code",
   "execution_count": null,
   "metadata": {
    "collapsed": true
   },
   "outputs": [],
   "source": []
  },
  {
   "cell_type": "code",
   "execution_count": null,
   "metadata": {
    "collapsed": true
   },
   "outputs": [],
   "source": []
  },
  {
   "cell_type": "code",
   "execution_count": null,
   "metadata": {
    "collapsed": true
   },
   "outputs": [],
   "source": []
  },
  {
   "cell_type": "code",
   "execution_count": null,
   "metadata": {
    "collapsed": true
   },
   "outputs": [],
   "source": []
  },
  {
   "cell_type": "code",
   "execution_count": null,
   "metadata": {
    "collapsed": true
   },
   "outputs": [],
   "source": [
    "\n",
    "    \n",
    "    \n",
    "    \n"
   ]
  },
  {
   "cell_type": "code",
   "execution_count": null,
   "metadata": {
    "collapsed": true
   },
   "outputs": [],
   "source": []
  },
  {
   "cell_type": "code",
   "execution_count": null,
   "metadata": {
    "collapsed": true
   },
   "outputs": [],
   "source": [
    "\n",
    "                                                               "
   ]
  },
  {
   "cell_type": "code",
   "execution_count": null,
   "metadata": {
    "collapsed": true
   },
   "outputs": [],
   "source": [
    "\n",
    "    "
   ]
  },
  {
   "cell_type": "code",
   "execution_count": null,
   "metadata": {
    "collapsed": true
   },
   "outputs": [],
   "source": []
  },
  {
   "cell_type": "code",
   "execution_count": null,
   "metadata": {
    "collapsed": true
   },
   "outputs": [],
   "source": []
  }
 ],
 "metadata": {
  "kernelspec": {
   "display_name": "Python 2",
   "language": "python",
   "name": "python2"
  },
  "language_info": {
   "codemirror_mode": {
    "name": "ipython",
    "version": 2
   },
   "file_extension": ".py",
   "mimetype": "text/x-python",
   "name": "python",
   "nbconvert_exporter": "python",
   "pygments_lexer": "ipython2",
   "version": "2.7.13"
  }
 },
 "nbformat": 4,
 "nbformat_minor": 2
}
